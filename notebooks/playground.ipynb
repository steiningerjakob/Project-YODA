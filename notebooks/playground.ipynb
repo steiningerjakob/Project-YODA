{
 "cells": [
  {
   "cell_type": "markdown",
   "id": "f1ee09af",
   "metadata": {},
   "source": [
    "# Project YODA"
   ]
  },
  {
   "cell_type": "code",
   "execution_count": 1,
   "id": "cf1a1f3b",
   "metadata": {
    "collapsed": true
   },
   "outputs": [
    {
     "name": "stderr",
     "output_type": "stream",
     "text": [
      "/Users/steiningerjakob/.pyenv/versions/3.8.12/envs/Project-YODA/lib/python3.8/site-packages/pandas/compat/__init__.py:124: UserWarning: Could not import the lzma module. Your installed Python is incomplete. Attempting to use lzma compression will result in a RuntimeError.\n",
      "  warnings.warn(msg)\n"
     ]
    }
   ],
   "source": [
    "### standard data science imports\n",
    "import pandas as pd\n",
    "import numpy as np\n",
    "import matplotlib.pyplot as plt\n",
    "import seaborn as sns\n",
    "\n",
    "### deep learning imports\n",
    "#from tensorflow.keras import utils"
   ]
  },
  {
   "cell_type": "markdown",
   "id": "adbc2333",
   "metadata": {},
   "source": [
    "## Data exploration"
   ]
  },
  {
   "cell_type": "markdown",
   "id": "8c1e8770",
   "metadata": {},
   "source": [
    "### Import data"
   ]
  },
  {
   "cell_type": "code",
   "execution_count": 2,
   "id": "84630746",
   "metadata": {},
   "outputs": [
    {
     "data": {
      "text/html": [
       "<div>\n",
       "<style scoped>\n",
       "    .dataframe tbody tr th:only-of-type {\n",
       "        vertical-align: middle;\n",
       "    }\n",
       "\n",
       "    .dataframe tbody tr th {\n",
       "        vertical-align: top;\n",
       "    }\n",
       "\n",
       "    .dataframe thead th {\n",
       "        text-align: right;\n",
       "    }\n",
       "</style>\n",
       "<table border=\"1\" class=\"dataframe\">\n",
       "  <thead>\n",
       "    <tr style=\"text-align: right;\">\n",
       "      <th></th>\n",
       "      <th>path</th>\n",
       "      <th>class_id</th>\n",
       "    </tr>\n",
       "  </thead>\n",
       "  <tbody>\n",
       "    <tr>\n",
       "      <th>0</th>\n",
       "      <td>marvel/0001/001.jpg</td>\n",
       "      <td>1</td>\n",
       "    </tr>\n",
       "    <tr>\n",
       "      <th>1</th>\n",
       "      <td>marvel/0001/002.jpg</td>\n",
       "      <td>1</td>\n",
       "    </tr>\n",
       "    <tr>\n",
       "      <th>2</th>\n",
       "      <td>marvel/0001/003.jpg</td>\n",
       "      <td>1</td>\n",
       "    </tr>\n",
       "    <tr>\n",
       "      <th>3</th>\n",
       "      <td>marvel/0001/004.jpg</td>\n",
       "      <td>1</td>\n",
       "    </tr>\n",
       "    <tr>\n",
       "      <th>4</th>\n",
       "      <td>marvel/0001/005.jpg</td>\n",
       "      <td>1</td>\n",
       "    </tr>\n",
       "  </tbody>\n",
       "</table>\n",
       "</div>"
      ],
      "text/plain": [
       "                  path  class_id\n",
       "0  marvel/0001/001.jpg         1\n",
       "1  marvel/0001/002.jpg         1\n",
       "2  marvel/0001/003.jpg         1\n",
       "3  marvel/0001/004.jpg         1\n",
       "4  marvel/0001/005.jpg         1"
      ]
     },
     "execution_count": 2,
     "metadata": {},
     "output_type": "execute_result"
    }
   ],
   "source": [
    "index = pd.read_csv('../raw_data/index.csv')\n",
    "index.head()"
   ]
  },
  {
   "cell_type": "code",
   "execution_count": 3,
   "id": "28b5b24d",
   "metadata": {},
   "outputs": [
    {
     "data": {
      "text/html": [
       "<div>\n",
       "<style scoped>\n",
       "    .dataframe tbody tr th:only-of-type {\n",
       "        vertical-align: middle;\n",
       "    }\n",
       "\n",
       "    .dataframe tbody tr th {\n",
       "        vertical-align: top;\n",
       "    }\n",
       "\n",
       "    .dataframe thead th {\n",
       "        text-align: right;\n",
       "    }\n",
       "</style>\n",
       "<table border=\"1\" class=\"dataframe\">\n",
       "  <thead>\n",
       "    <tr style=\"text-align: right;\">\n",
       "      <th></th>\n",
       "      <th>class_id</th>\n",
       "      <th>lego_ids</th>\n",
       "      <th>lego_names</th>\n",
       "      <th>minifigure_name</th>\n",
       "    </tr>\n",
       "  </thead>\n",
       "  <tbody>\n",
       "    <tr>\n",
       "      <th>0</th>\n",
       "      <td>1</td>\n",
       "      <td>[76115]</td>\n",
       "      <td>['Spider Mech vs. Venom']</td>\n",
       "      <td>SPIDER-MAN</td>\n",
       "    </tr>\n",
       "    <tr>\n",
       "      <th>1</th>\n",
       "      <td>2</td>\n",
       "      <td>[76115]</td>\n",
       "      <td>['Spider Mech vs. Venom']</td>\n",
       "      <td>VENOM</td>\n",
       "    </tr>\n",
       "    <tr>\n",
       "      <th>2</th>\n",
       "      <td>3</td>\n",
       "      <td>[76115]</td>\n",
       "      <td>['Spider Mech vs. Venom']</td>\n",
       "      <td>AUNT MAY</td>\n",
       "    </tr>\n",
       "    <tr>\n",
       "      <th>3</th>\n",
       "      <td>4</td>\n",
       "      <td>[76115]</td>\n",
       "      <td>['Spider Mech vs. Venom']</td>\n",
       "      <td>GHOST SPIDER</td>\n",
       "    </tr>\n",
       "    <tr>\n",
       "      <th>4</th>\n",
       "      <td>5</td>\n",
       "      <td>[75208]</td>\n",
       "      <td>[\"Yoda's Hut\"]</td>\n",
       "      <td>YODA</td>\n",
       "    </tr>\n",
       "  </tbody>\n",
       "</table>\n",
       "</div>"
      ],
      "text/plain": [
       "   class_id lego_ids                 lego_names minifigure_name\n",
       "0         1  [76115]  ['Spider Mech vs. Venom']      SPIDER-MAN\n",
       "1         2  [76115]  ['Spider Mech vs. Venom']           VENOM\n",
       "2         3  [76115]  ['Spider Mech vs. Venom']        AUNT MAY\n",
       "3         4  [76115]  ['Spider Mech vs. Venom']    GHOST SPIDER\n",
       "4         5  [75208]             [\"Yoda's Hut\"]            YODA"
      ]
     },
     "execution_count": 3,
     "metadata": {},
     "output_type": "execute_result"
    }
   ],
   "source": [
    "metadata = pd.read_csv('../raw_data/metadata.csv')\n",
    "metadata.head()"
   ]
  },
  {
   "cell_type": "code",
   "execution_count": 4,
   "id": "5035e6dd",
   "metadata": {},
   "outputs": [
    {
     "data": {
      "text/html": [
       "<div>\n",
       "<style scoped>\n",
       "    .dataframe tbody tr th:only-of-type {\n",
       "        vertical-align: middle;\n",
       "    }\n",
       "\n",
       "    .dataframe tbody tr th {\n",
       "        vertical-align: top;\n",
       "    }\n",
       "\n",
       "    .dataframe thead th {\n",
       "        text-align: right;\n",
       "    }\n",
       "</style>\n",
       "<table border=\"1\" class=\"dataframe\">\n",
       "  <thead>\n",
       "    <tr style=\"text-align: right;\">\n",
       "      <th></th>\n",
       "      <th>path</th>\n",
       "      <th>class_id</th>\n",
       "      <th>lego_ids</th>\n",
       "      <th>lego_names</th>\n",
       "      <th>minifigure_name</th>\n",
       "    </tr>\n",
       "  </thead>\n",
       "  <tbody>\n",
       "    <tr>\n",
       "      <th>0</th>\n",
       "      <td>marvel/0001/001.jpg</td>\n",
       "      <td>1</td>\n",
       "      <td>[76115]</td>\n",
       "      <td>['Spider Mech vs. Venom']</td>\n",
       "      <td>SPIDER-MAN</td>\n",
       "    </tr>\n",
       "    <tr>\n",
       "      <th>1</th>\n",
       "      <td>marvel/0001/002.jpg</td>\n",
       "      <td>1</td>\n",
       "      <td>[76115]</td>\n",
       "      <td>['Spider Mech vs. Venom']</td>\n",
       "      <td>SPIDER-MAN</td>\n",
       "    </tr>\n",
       "    <tr>\n",
       "      <th>2</th>\n",
       "      <td>marvel/0001/003.jpg</td>\n",
       "      <td>1</td>\n",
       "      <td>[76115]</td>\n",
       "      <td>['Spider Mech vs. Venom']</td>\n",
       "      <td>SPIDER-MAN</td>\n",
       "    </tr>\n",
       "    <tr>\n",
       "      <th>3</th>\n",
       "      <td>marvel/0001/004.jpg</td>\n",
       "      <td>1</td>\n",
       "      <td>[76115]</td>\n",
       "      <td>['Spider Mech vs. Venom']</td>\n",
       "      <td>SPIDER-MAN</td>\n",
       "    </tr>\n",
       "    <tr>\n",
       "      <th>4</th>\n",
       "      <td>marvel/0001/005.jpg</td>\n",
       "      <td>1</td>\n",
       "      <td>[76115]</td>\n",
       "      <td>['Spider Mech vs. Venom']</td>\n",
       "      <td>SPIDER-MAN</td>\n",
       "    </tr>\n",
       "  </tbody>\n",
       "</table>\n",
       "</div>"
      ],
      "text/plain": [
       "                  path  class_id lego_ids                 lego_names  \\\n",
       "0  marvel/0001/001.jpg         1  [76115]  ['Spider Mech vs. Venom']   \n",
       "1  marvel/0001/002.jpg         1  [76115]  ['Spider Mech vs. Venom']   \n",
       "2  marvel/0001/003.jpg         1  [76115]  ['Spider Mech vs. Venom']   \n",
       "3  marvel/0001/004.jpg         1  [76115]  ['Spider Mech vs. Venom']   \n",
       "4  marvel/0001/005.jpg         1  [76115]  ['Spider Mech vs. Venom']   \n",
       "\n",
       "  minifigure_name  \n",
       "0      SPIDER-MAN  \n",
       "1      SPIDER-MAN  \n",
       "2      SPIDER-MAN  \n",
       "3      SPIDER-MAN  \n",
       "4      SPIDER-MAN  "
      ]
     },
     "execution_count": 4,
     "metadata": {},
     "output_type": "execute_result"
    }
   ],
   "source": [
    "index_with_names = pd.merge(index, metadata, on='class_id')\n",
    "index_with_names.head()"
   ]
  },
  {
   "cell_type": "markdown",
   "id": "80a1ba94",
   "metadata": {},
   "source": [
    "### Explore files"
   ]
  },
  {
   "cell_type": "code",
   "execution_count": null,
   "id": "e1f4ce7e",
   "metadata": {},
   "outputs": [],
   "source": [
    "index_with_names.minifigure_name.value_counts()"
   ]
  },
  {
   "cell_type": "code",
   "execution_count": null,
   "id": "78972754",
   "metadata": {},
   "outputs": [],
   "source": [
    "plt.figure(figsize=(20,5))\n",
    "sns.histplot(index_with_names['minifigure_name'])\n",
    "plt.xticks(rotation=45)\n",
    "plt.show();"
   ]
  },
  {
   "cell_type": "markdown",
   "id": "6e7557b4",
   "metadata": {},
   "source": [
    "### Preprocess data (if necessary)"
   ]
  },
  {
   "cell_type": "markdown",
   "id": "224002c8",
   "metadata": {},
   "source": [
    "### ..."
   ]
  },
  {
   "cell_type": "markdown",
   "id": "6737237b",
   "metadata": {},
   "source": [
    "## Classification model"
   ]
  },
  {
   "cell_type": "markdown",
   "id": "2436e8c2",
   "metadata": {},
   "source": [
    "### Define initial model architecture "
   ]
  },
  {
   "cell_type": "markdown",
   "id": "75bd427a",
   "metadata": {},
   "source": [
    "### Train initial model"
   ]
  },
  {
   "cell_type": "code",
   "execution_count": null,
   "id": "1ce4ebad",
   "metadata": {},
   "outputs": [],
   "source": []
  }
 ],
 "metadata": {
  "kernelspec": {
   "display_name": "Python 3 (ipykernel)",
   "language": "python",
   "name": "python3"
  },
  "language_info": {
   "codemirror_mode": {
    "name": "ipython",
    "version": 3
   },
   "file_extension": ".py",
   "mimetype": "text/x-python",
   "name": "python",
   "nbconvert_exporter": "python",
   "pygments_lexer": "ipython3",
   "version": "3.8.12"
  },
  "toc": {
   "base_numbering": 1,
   "nav_menu": {},
   "number_sections": true,
   "sideBar": true,
   "skip_h1_title": false,
   "title_cell": "Table of Contents",
   "title_sidebar": "Contents",
   "toc_cell": false,
   "toc_position": {},
   "toc_section_display": true,
   "toc_window_display": false
  }
 },
 "nbformat": 4,
 "nbformat_minor": 5
}
